{
 "cells": [
  {
   "cell_type": "code",
   "execution_count": 73,
   "id": "b3df12b3",
   "metadata": {},
   "outputs": [],
   "source": [
    "# from requests import get\n",
    "import requests\n",
    "import re\n",
    "from bs4 import BeautifulSoup\n",
    "from warnings import warn\n",
    "from time import sleep\n",
    "import random\n",
    "import numpy as np, pandas as pd\n",
    "import seaborn as sns\n",
    "import urllib.request\n",
    "from tqdm import tqdm"
   ]
  },
  {
   "cell_type": "code",
   "execution_count": 97,
   "id": "d5ccbce6",
   "metadata": {},
   "outputs": [
    {
     "name": "stdout",
     "output_type": "stream",
     "text": [
      "3\n",
      "<p class=\"mw-empty-elt\">\n",
      "</p>\n",
      "\n",
      "\n",
      "<p><b><span title=\"Assamese-language text\"><i lang=\"as-Latn\">Asomiya Khabar</i></span></b> (<a href=\"/wiki/Assamese_language\" title=\"Assamese language\">Assamese:</a> অসমীয়া খবৰ) (or <i><b>Oxomiya Khobor</b></i>) is an <a href=\"/wiki/Assamese_language\" title=\"Assamese language\">Assamese</a> daily newspaper published simultaneously from <a href=\"/wiki/Guwahati\" title=\"Guwahati\">Guwahati</a> and <a href=\"/wiki/Jorhat\" title=\"Jorhat\">Jorhat</a>.<sup class=\"reference\" id=\"cite_ref-1\"><a href=\"#cite_note-1\">[1]</a></sup> It is one of the highest circulated Assamese daily newspaper. A weekly supplement named <i>Deoboriya Khabar</i> is published with it on every Sunday. It was placed as the second largest vernacular daily of the region.<sup class=\"reference\" id=\"cite_ref-2\"><a href=\"#cite_note-2\">[2]</a></sup> Veteran journalist Shankar Laskar is in the position of editor of <span title=\"Assamese-language text\"><i lang=\"as-Latn\">Asomiya Khabar</i></span> and Biswajit Das is the executive editor.<sup class=\"reference\" id=\"cite_ref-3\"><a href=\"#cite_note-3\">[3]</a></sup>\n",
      "</p>\n",
      "Asomiya Khabar (Assamese: অসমীয়া খবৰ) (or Oxomiya Khobor) is an Assamese daily newspaper published simultaneously from Guwahati and Jorhat.[1] It is one of the highest circulated Assamese daily newspaper. A weekly supplement named Deoboriya Khabar is published with it on every Sunday. It was placed as the second largest vernacular daily of the region.[2] Veteran journalist Shankar Laskar is in the position of editor of Asomiya Khabar and Biswajit Das is the executive editor.[3]\n",
      "\n",
      "/wiki/File:Khobor_logo.png\n"
     ]
    }
   ],
   "source": [
    "# Test\n",
    "url = \"https://en.wikipedia.org/wiki/Asomiya_Khabar\"\n",
    "response = requests.get(url=url)\n",
    "\n",
    "soup = BeautifulSoup(response.content, 'html.parser')\n",
    "des_num = len(soup.find_all(\"p\"))\n",
    "print(des_num)\n",
    "description_unfiltered = str(soup.find_all(\"p\")[0])\n",
    "description = re.sub(r\"<.*?>\", \"\", description_unfiltered)\n",
    "print(description_unfiltered)\n",
    "print(description)\n",
    "if description == str(\"\\n\"):\n",
    "    description_unfiltered = str(soup.find_all(\"p\")[1])\n",
    "    description = re.sub(r\"<.*?>\", \"\", description_unfiltered)\n",
    "    print(description_unfiltered)\n",
    "    print(description)\n",
    "    \n",
    "allLinks = soup.find(id=\"bodyContent\").find_all(\"a\")\n",
    "print(allLinks[0][\"href\"])"
   ]
  },
  {
   "cell_type": "code",
   "execution_count": 111,
   "id": "e2aabb33",
   "metadata": {},
   "outputs": [],
   "source": [
    "Dont_include_in_links = r\"User|File\\:|wiki\\/Wikipedia\\:|Special\\:|Help\\:|\\#|Template|Category\\:\"\n",
    "\n",
    "def Scraper(url, data_frame):\n",
    "    try:\n",
    "        response = requests.get(url=url)\n",
    "    except:\n",
    "        sleep(5)\n",
    "        print(\"Sleeping...\")\n",
    "        response = requests.get(url=url)\n",
    "\n",
    "    soup = BeautifulSoup(response.content, 'html.parser')\n",
    "    title = soup.find(id=\"firstHeading\")\n",
    "    try:\n",
    "        description_unfiltered = str(soup.find_all(\"p\")[0])\n",
    "        # Make description readable\n",
    "        description = re.sub(r\"<.*?>\", \"\", description_unfiltered)\n",
    "    except:\n",
    "        print(\"Cannot find paragraph?\")\n",
    "        description = title.text\n",
    "    \n",
    "    if description == str(\"\\n\"):\n",
    "        try:\n",
    "            description_unfiltered = str(soup.find_all(\"p\")[1])\n",
    "            description = re.sub(r\"<.*?>\", \"\", description_unfiltered)\n",
    "        except:\n",
    "            print(\"Cannot find paragraph??\")\n",
    "            description = title.text\n",
    "            \n",
    "    df_temp = pd.DataFrame([[title.text, description, url]], columns=[\"Title\", \"Description\", \"Link\"])\n",
    "    data_result = pd.concat([data_frame, df_temp], ignore_index=True)\n",
    "\n",
    "    # Randomly get a next link\n",
    "    allLinks = soup.find(id=\"bodyContent\").find_all(\"a\")\n",
    "    random.shuffle(allLinks)\n",
    "    linkToScrape = 0\n",
    "    \n",
    "    for link in allLinks:\n",
    "        # Only interested in other wiki articles\n",
    "        try:\n",
    "            if link['href'].find(\"/wiki/\") == -1 or \\\n",
    "                len(re.findall(Dont_include_in_links, link['href'])) >= 1: #or link['href'].find(\"\\.\"): \n",
    "                continue\n",
    "        except:\n",
    "            print(\"Error! Check next link...\")\n",
    "            continue\n",
    "\n",
    "        # Use this link to scrape\n",
    "        linkToScrape = link\n",
    "        break\n",
    "\n",
    "    # The next link to scrape\n",
    "    next_link = \"https://en.wikipedia.org\" + linkToScrape['href']\n",
    "    # The link should be valid\n",
    "    next_link = re.sub(r\"^https.*https\", \"https\", next_link)\n",
    "    # print(title.text)\n",
    "    # print(next_link)\n",
    "    \n",
    "    return data_result, next_link"
   ]
  },
  {
   "cell_type": "code",
   "execution_count": 14,
   "id": "c1e71c81",
   "metadata": {
    "scrolled": true
   },
   "outputs": [
    {
     "data": {
      "text/html": [
       "<div>\n",
       "<style scoped>\n",
       "    .dataframe tbody tr th:only-of-type {\n",
       "        vertical-align: middle;\n",
       "    }\n",
       "\n",
       "    .dataframe tbody tr th {\n",
       "        vertical-align: top;\n",
       "    }\n",
       "\n",
       "    .dataframe thead th {\n",
       "        text-align: right;\n",
       "    }\n",
       "</style>\n",
       "<table border=\"1\" class=\"dataframe\">\n",
       "  <thead>\n",
       "    <tr style=\"text-align: right;\">\n",
       "      <th></th>\n",
       "      <th>Title</th>\n",
       "      <th>Description</th>\n",
       "      <th>Link</th>\n",
       "    </tr>\n",
       "  </thead>\n",
       "  <tbody>\n",
       "    <tr>\n",
       "      <th>0</th>\n",
       "      <td>Web scraping</td>\n",
       "      <td>Web scraping, web harvesting, or web data extr...</td>\n",
       "      <td>https://en.wikipedia.org/wiki/Web_scraping</td>\n",
       "    </tr>\n",
       "    <tr>\n",
       "      <th>1</th>\n",
       "      <td>Wrapper (data mining)</td>\n",
       "      <td>Wrapper in data mining is a procedure that ext...</td>\n",
       "      <td>https://en.wikipedia.org/wiki/Wrapper_(data_mi...</td>\n",
       "    </tr>\n",
       "    <tr>\n",
       "      <th>2</th>\n",
       "      <td>Web scraping</td>\n",
       "      <td>Web scraping, web harvesting, or web data extr...</td>\n",
       "      <td>https://en.wikipedia.org/wiki/Web_scraping</td>\n",
       "    </tr>\n",
       "    <tr>\n",
       "      <th>3</th>\n",
       "      <td>Microformat</td>\n",
       "      <td>Microformats (μF)[note 1] are a set of defined...</td>\n",
       "      <td>https://en.wikipedia.org/wiki/Microformat</td>\n",
       "    </tr>\n",
       "    <tr>\n",
       "      <th>4</th>\n",
       "      <td>Common Logic</td>\n",
       "      <td>Common Logic (CL) is a framework for a family ...</td>\n",
       "      <td>https://en.wikipedia.org/wiki/Common_Logic</td>\n",
       "    </tr>\n",
       "    <tr>\n",
       "      <th>...</th>\n",
       "      <td>...</td>\n",
       "      <td>...</td>\n",
       "      <td>...</td>\n",
       "    </tr>\n",
       "    <tr>\n",
       "      <th>284</th>\n",
       "      <td>The Hurricane Party</td>\n",
       "      <td>The Hurricane Party (Swedish: Orkanpartyt) is ...</td>\n",
       "      <td>https://en.wikipedia.org/wiki/The_Hurricane_Party</td>\n",
       "    </tr>\n",
       "    <tr>\n",
       "      <th>285</th>\n",
       "      <td>Category:Albert Bonniers Förlag books</td>\n",
       "      <td>The following 55 pages are in this category, o...</td>\n",
       "      <td>https://en.wikipedia.org/wiki/Category:Albert_...</td>\n",
       "    </tr>\n",
       "    <tr>\n",
       "      <th>286</th>\n",
       "      <td>The Sorrow Gondola</td>\n",
       "      <td>The Sorrow Gondola (Swedish: Sorgegondolen) is...</td>\n",
       "      <td>https://en.wikipedia.org/wiki/The_Sorrow_Gondola</td>\n",
       "    </tr>\n",
       "    <tr>\n",
       "      <th>287</th>\n",
       "      <td>Tomas Tranströmer</td>\n",
       "      <td>Tomas Gösta Tranströmer (.mw-parser-output .IP...</td>\n",
       "      <td>https://en.wikipedia.org/wiki/Tomas_Transtr%C3...</td>\n",
       "    </tr>\n",
       "    <tr>\n",
       "      <th>288</th>\n",
       "      <td>Sara Stridsberg</td>\n",
       "      <td>Sara Brita Stridsberg (born 29 August 1972) is...</td>\n",
       "      <td>https://en.wikipedia.org/wiki/Sara_Stridsberg</td>\n",
       "    </tr>\n",
       "  </tbody>\n",
       "</table>\n",
       "<p>289 rows × 3 columns</p>\n",
       "</div>"
      ],
      "text/plain": [
       "                                     Title  \\\n",
       "0                             Web scraping   \n",
       "1                    Wrapper (data mining)   \n",
       "2                             Web scraping   \n",
       "3                              Microformat   \n",
       "4                             Common Logic   \n",
       "..                                     ...   \n",
       "284                    The Hurricane Party   \n",
       "285  Category:Albert Bonniers Förlag books   \n",
       "286                     The Sorrow Gondola   \n",
       "287                      Tomas Tranströmer   \n",
       "288                        Sara Stridsberg   \n",
       "\n",
       "                                           Description  \\\n",
       "0    Web scraping, web harvesting, or web data extr...   \n",
       "1    Wrapper in data mining is a procedure that ext...   \n",
       "2    Web scraping, web harvesting, or web data extr...   \n",
       "3    Microformats (μF)[note 1] are a set of defined...   \n",
       "4    Common Logic (CL) is a framework for a family ...   \n",
       "..                                                 ...   \n",
       "284  The Hurricane Party (Swedish: Orkanpartyt) is ...   \n",
       "285  The following 55 pages are in this category, o...   \n",
       "286  The Sorrow Gondola (Swedish: Sorgegondolen) is...   \n",
       "287  Tomas Gösta Tranströmer (.mw-parser-output .IP...   \n",
       "288  Sara Brita Stridsberg (born 29 August 1972) is...   \n",
       "\n",
       "                                                  Link  \n",
       "0           https://en.wikipedia.org/wiki/Web_scraping  \n",
       "1    https://en.wikipedia.org/wiki/Wrapper_(data_mi...  \n",
       "2           https://en.wikipedia.org/wiki/Web_scraping  \n",
       "3            https://en.wikipedia.org/wiki/Microformat  \n",
       "4           https://en.wikipedia.org/wiki/Common_Logic  \n",
       "..                                                 ...  \n",
       "284  https://en.wikipedia.org/wiki/The_Hurricane_Party  \n",
       "285  https://en.wikipedia.org/wiki/Category:Albert_...  \n",
       "286   https://en.wikipedia.org/wiki/The_Sorrow_Gondola  \n",
       "287  https://en.wikipedia.org/wiki/Tomas_Transtr%C3...  \n",
       "288      https://en.wikipedia.org/wiki/Sara_Stridsberg  \n",
       "\n",
       "[289 rows x 3 columns]"
      ]
     },
     "metadata": {},
     "output_type": "display_data"
    }
   ],
   "source": [
    "df = pd.read_csv(\"data.csv\", index_col=False)\n",
    "next_link = \"https://en.wikipedia.org/wiki/Hans_B%C3%B8rli\"\n",
    "display(df)"
   ]
  },
  {
   "cell_type": "code",
   "execution_count": 131,
   "id": "99048463",
   "metadata": {},
   "outputs": [],
   "source": [
    "next_link = \"https://en.wikipedia.org/wiki/Google_Checkout\""
   ]
  },
  {
   "cell_type": "code",
   "execution_count": 132,
   "id": "de84158a",
   "metadata": {
    "scrolled": true
   },
   "outputs": [
    {
     "name": "stderr",
     "output_type": "stream",
     "text": [
      "  5%|████                                                                            | 51/1000 [00:23<04:50,  3.27it/s]"
     ]
    },
    {
     "name": "stdout",
     "output_type": "stream",
     "text": [
      "Error! Check next link...\n"
     ]
    },
    {
     "name": "stderr",
     "output_type": "stream",
     "text": [
      " 18%|██████████████                                                                 | 178/1000 [01:21<07:50,  1.75it/s]"
     ]
    },
    {
     "name": "stdout",
     "output_type": "stream",
     "text": [
      "Error! Check next link...\n"
     ]
    },
    {
     "name": "stderr",
     "output_type": "stream",
     "text": [
      " 19%|██████████████▊                                                                | 188/1000 [01:27<10:28,  1.29it/s]"
     ]
    },
    {
     "name": "stdout",
     "output_type": "stream",
     "text": [
      "Error! Check next link...\n"
     ]
    },
    {
     "name": "stderr",
     "output_type": "stream",
     "text": [
      " 36%|████████████████████████████▌                                                  | 361/1000 [02:48<05:20,  1.99it/s]"
     ]
    },
    {
     "name": "stdout",
     "output_type": "stream",
     "text": [
      "Error! Check next link...\n"
     ]
    },
    {
     "name": "stderr",
     "output_type": "stream",
     "text": [
      " 55%|███████████████████████████████████████████▏                                   | 547/1000 [04:10<03:46,  2.00it/s]"
     ]
    },
    {
     "name": "stdout",
     "output_type": "stream",
     "text": [
      "Error! Check next link...\n"
     ]
    },
    {
     "name": "stderr",
     "output_type": "stream",
     "text": [
      " 60%|███████████████████████████████████████████████                                | 596/1000 [04:30<02:58,  2.26it/s]"
     ]
    },
    {
     "name": "stdout",
     "output_type": "stream",
     "text": [
      "Error! Check next link...\n"
     ]
    },
    {
     "name": "stderr",
     "output_type": "stream",
     "text": [
      " 62%|████████████████████████████████████████████████▉                              | 619/1000 [04:36<01:22,  4.62it/s]"
     ]
    },
    {
     "name": "stdout",
     "output_type": "stream",
     "text": [
      "Error! Check next link...\n"
     ]
    },
    {
     "name": "stderr",
     "output_type": "stream",
     "text": [
      " 79%|██████████████████████████████████████████████████████████████▋                | 793/1000 [05:54<01:51,  1.86it/s]"
     ]
    },
    {
     "name": "stdout",
     "output_type": "stream",
     "text": [
      "Cannot find paragraph?\n",
      "Cannot find paragraph?\n"
     ]
    },
    {
     "name": "stderr",
     "output_type": "stream",
     "text": [
      " 82%|████████████████████████████████████████████████████████████████▍              | 816/1000 [06:02<01:13,  2.52it/s]"
     ]
    },
    {
     "name": "stdout",
     "output_type": "stream",
     "text": [
      "Error! Check next link...\n"
     ]
    },
    {
     "name": "stderr",
     "output_type": "stream",
     "text": [
      " 84%|██████████████████████████████████████████████████████████████████▌            | 843/1000 [06:14<01:04,  2.44it/s]"
     ]
    },
    {
     "name": "stdout",
     "output_type": "stream",
     "text": [
      "Error! Check next link...\n"
     ]
    },
    {
     "name": "stderr",
     "output_type": "stream",
     "text": [
      " 96%|███████████████████████████████████████████████████████████████████████████▌   | 957/1000 [07:08<00:18,  2.35it/s]"
     ]
    },
    {
     "name": "stdout",
     "output_type": "stream",
     "text": [
      "Error! Check next link...\n"
     ]
    },
    {
     "name": "stderr",
     "output_type": "stream",
     "text": [
      "100%|██████████████████████████████████████████████████████████████████████████████| 1000/1000 [07:28<00:00,  2.23it/s]\n"
     ]
    },
    {
     "data": {
      "text/html": [
       "<div>\n",
       "<style scoped>\n",
       "    .dataframe tbody tr th:only-of-type {\n",
       "        vertical-align: middle;\n",
       "    }\n",
       "\n",
       "    .dataframe tbody tr th {\n",
       "        vertical-align: top;\n",
       "    }\n",
       "\n",
       "    .dataframe thead th {\n",
       "        text-align: right;\n",
       "    }\n",
       "</style>\n",
       "<table border=\"1\" class=\"dataframe\">\n",
       "  <thead>\n",
       "    <tr style=\"text-align: right;\">\n",
       "      <th></th>\n",
       "      <th>Title</th>\n",
       "      <th>Description</th>\n",
       "      <th>Link</th>\n",
       "    </tr>\n",
       "  </thead>\n",
       "  <tbody>\n",
       "    <tr>\n",
       "      <th>0</th>\n",
       "      <td>Web scraping</td>\n",
       "      <td>Web scraping, web harvesting, or web data extr...</td>\n",
       "      <td>https://en.wikipedia.org/wiki/Web_scraping</td>\n",
       "    </tr>\n",
       "    <tr>\n",
       "      <th>1</th>\n",
       "      <td>Wrapper (data mining)</td>\n",
       "      <td>Wrapper in data mining is a procedure that ext...</td>\n",
       "      <td>https://en.wikipedia.org/wiki/Wrapper_(data_mi...</td>\n",
       "    </tr>\n",
       "    <tr>\n",
       "      <th>2</th>\n",
       "      <td>Microformat</td>\n",
       "      <td>Microformats (μF)[note 1] are a set of defined...</td>\n",
       "      <td>https://en.wikipedia.org/wiki/Microformat</td>\n",
       "    </tr>\n",
       "    <tr>\n",
       "      <th>3</th>\n",
       "      <td>Common Logic</td>\n",
       "      <td>Common Logic (CL) is a framework for a family ...</td>\n",
       "      <td>https://en.wikipedia.org/wiki/Common_Logic</td>\n",
       "    </tr>\n",
       "    <tr>\n",
       "      <th>4</th>\n",
       "      <td>ISLISP</td>\n",
       "      <td>ISLISP (also capitalized as ISLisp) is a progr...</td>\n",
       "      <td>https://en.wikipedia.org/wiki/ISLISP</td>\n",
       "    </tr>\n",
       "    <tr>\n",
       "      <th>...</th>\n",
       "      <td>...</td>\n",
       "      <td>...</td>\n",
       "      <td>...</td>\n",
       "    </tr>\n",
       "    <tr>\n",
       "      <th>9946</th>\n",
       "      <td>Creative Commons license</td>\n",
       "      <td>A Creative Commons (CC) license is one of seve...</td>\n",
       "      <td>https://en.wikipedia.org/wiki/Creative_Commons...</td>\n",
       "    </tr>\n",
       "    <tr>\n",
       "      <th>9947</th>\n",
       "      <td>Portal:Free and open-source software</td>\n",
       "      <td>Free and open-source software (FOSS) is softwa...</td>\n",
       "      <td>https://en.wikipedia.org/wiki/Portal:Free_and_...</td>\n",
       "    </tr>\n",
       "    <tr>\n",
       "      <th>9948</th>\n",
       "      <td>Tiresias (typeface)</td>\n",
       "      <td>Tiresias is a family of TrueType sans-serif ty...</td>\n",
       "      <td>https://en.wikipedia.org/wiki/Tiresias_(typeface)</td>\n",
       "    </tr>\n",
       "    <tr>\n",
       "      <th>9949</th>\n",
       "      <td>MetaType1</td>\n",
       "      <td>MetaType1, also stylized as METATYPE1, is a to...</td>\n",
       "      <td>https://en.wikipedia.org/wiki/MetaType1</td>\n",
       "    </tr>\n",
       "    <tr>\n",
       "      <th>9950</th>\n",
       "      <td>Ubuntu (typeface)</td>\n",
       "      <td>Ubuntu is an OpenType-based font family, desig...</td>\n",
       "      <td>https://en.wikipedia.org/wiki/Ubuntu_(typeface)</td>\n",
       "    </tr>\n",
       "  </tbody>\n",
       "</table>\n",
       "<p>9951 rows × 3 columns</p>\n",
       "</div>"
      ],
      "text/plain": [
       "                                     Title  \\\n",
       "0                             Web scraping   \n",
       "1                    Wrapper (data mining)   \n",
       "2                              Microformat   \n",
       "3                             Common Logic   \n",
       "4                                   ISLISP   \n",
       "...                                    ...   \n",
       "9946              Creative Commons license   \n",
       "9947  Portal:Free and open-source software   \n",
       "9948                   Tiresias (typeface)   \n",
       "9949                             MetaType1   \n",
       "9950                     Ubuntu (typeface)   \n",
       "\n",
       "                                            Description  \\\n",
       "0     Web scraping, web harvesting, or web data extr...   \n",
       "1     Wrapper in data mining is a procedure that ext...   \n",
       "2     Microformats (μF)[note 1] are a set of defined...   \n",
       "3     Common Logic (CL) is a framework for a family ...   \n",
       "4     ISLISP (also capitalized as ISLisp) is a progr...   \n",
       "...                                                 ...   \n",
       "9946  A Creative Commons (CC) license is one of seve...   \n",
       "9947  Free and open-source software (FOSS) is softwa...   \n",
       "9948  Tiresias is a family of TrueType sans-serif ty...   \n",
       "9949  MetaType1, also stylized as METATYPE1, is a to...   \n",
       "9950  Ubuntu is an OpenType-based font family, desig...   \n",
       "\n",
       "                                                   Link  \n",
       "0            https://en.wikipedia.org/wiki/Web_scraping  \n",
       "1     https://en.wikipedia.org/wiki/Wrapper_(data_mi...  \n",
       "2             https://en.wikipedia.org/wiki/Microformat  \n",
       "3            https://en.wikipedia.org/wiki/Common_Logic  \n",
       "4                  https://en.wikipedia.org/wiki/ISLISP  \n",
       "...                                                 ...  \n",
       "9946  https://en.wikipedia.org/wiki/Creative_Commons...  \n",
       "9947  https://en.wikipedia.org/wiki/Portal:Free_and_...  \n",
       "9948  https://en.wikipedia.org/wiki/Tiresias_(typeface)  \n",
       "9949            https://en.wikipedia.org/wiki/MetaType1  \n",
       "9950    https://en.wikipedia.org/wiki/Ubuntu_(typeface)  \n",
       "\n",
       "[9951 rows x 3 columns]"
      ]
     },
     "metadata": {},
     "output_type": "display_data"
    },
    {
     "name": "stdout",
     "output_type": "stream",
     "text": [
      "https://en.wikipedia.org/wiki/Ubuntu_Forums\n"
     ]
    }
   ],
   "source": [
    "for i in tqdm(range(0, 1000)):\n",
    "    df, next_link = Scraper(next_link, df)\n",
    "    \n",
    "display(df)\n",
    "print(next_link)"
   ]
  },
  {
   "cell_type": "code",
   "execution_count": 135,
   "id": "135e4306",
   "metadata": {},
   "outputs": [
    {
     "data": {
      "text/html": [
       "<div>\n",
       "<style scoped>\n",
       "    .dataframe tbody tr th:only-of-type {\n",
       "        vertical-align: middle;\n",
       "    }\n",
       "\n",
       "    .dataframe tbody tr th {\n",
       "        vertical-align: top;\n",
       "    }\n",
       "\n",
       "    .dataframe thead th {\n",
       "        text-align: right;\n",
       "    }\n",
       "</style>\n",
       "<table border=\"1\" class=\"dataframe\">\n",
       "  <thead>\n",
       "    <tr style=\"text-align: right;\">\n",
       "      <th></th>\n",
       "      <th>Title</th>\n",
       "      <th>Description</th>\n",
       "      <th>Link</th>\n",
       "    </tr>\n",
       "  </thead>\n",
       "  <tbody>\n",
       "    <tr>\n",
       "      <th>0</th>\n",
       "      <td>Web scraping</td>\n",
       "      <td>Web scraping, web harvesting, or web data extr...</td>\n",
       "      <td>https://en.wikipedia.org/wiki/Web_scraping</td>\n",
       "    </tr>\n",
       "    <tr>\n",
       "      <th>1</th>\n",
       "      <td>Wrapper (data mining)</td>\n",
       "      <td>Wrapper in data mining is a procedure that ext...</td>\n",
       "      <td>https://en.wikipedia.org/wiki/Wrapper_(data_mi...</td>\n",
       "    </tr>\n",
       "    <tr>\n",
       "      <th>2</th>\n",
       "      <td>Microformat</td>\n",
       "      <td>Microformats (μF)[note 1] are a set of defined...</td>\n",
       "      <td>https://en.wikipedia.org/wiki/Microformat</td>\n",
       "    </tr>\n",
       "    <tr>\n",
       "      <th>3</th>\n",
       "      <td>Common Logic</td>\n",
       "      <td>Common Logic (CL) is a framework for a family ...</td>\n",
       "      <td>https://en.wikipedia.org/wiki/Common_Logic</td>\n",
       "    </tr>\n",
       "    <tr>\n",
       "      <th>4</th>\n",
       "      <td>ISLISP</td>\n",
       "      <td>ISLISP (also capitalized as ISLisp) is a progr...</td>\n",
       "      <td>https://en.wikipedia.org/wiki/ISLISP</td>\n",
       "    </tr>\n",
       "    <tr>\n",
       "      <th>...</th>\n",
       "      <td>...</td>\n",
       "      <td>...</td>\n",
       "      <td>...</td>\n",
       "    </tr>\n",
       "    <tr>\n",
       "      <th>9944</th>\n",
       "      <td>Stack (abstract data type)</td>\n",
       "      <td>In computer science, a stack is an abstract da...</td>\n",
       "      <td>https://en.wikipedia.org/wiki/Stack_(data_stru...</td>\n",
       "    </tr>\n",
       "    <tr>\n",
       "      <th>9946</th>\n",
       "      <td>Creative Commons license</td>\n",
       "      <td>A Creative Commons (CC) license is one of seve...</td>\n",
       "      <td>https://en.wikipedia.org/wiki/Creative_Commons...</td>\n",
       "    </tr>\n",
       "    <tr>\n",
       "      <th>9948</th>\n",
       "      <td>Tiresias (typeface)</td>\n",
       "      <td>Tiresias is a family of TrueType sans-serif ty...</td>\n",
       "      <td>https://en.wikipedia.org/wiki/Tiresias_(typeface)</td>\n",
       "    </tr>\n",
       "    <tr>\n",
       "      <th>9949</th>\n",
       "      <td>MetaType1</td>\n",
       "      <td>MetaType1, also stylized as METATYPE1, is a to...</td>\n",
       "      <td>https://en.wikipedia.org/wiki/MetaType1</td>\n",
       "    </tr>\n",
       "    <tr>\n",
       "      <th>9950</th>\n",
       "      <td>Ubuntu (typeface)</td>\n",
       "      <td>Ubuntu is an OpenType-based font family, desig...</td>\n",
       "      <td>https://en.wikipedia.org/wiki/Ubuntu_(typeface)</td>\n",
       "    </tr>\n",
       "  </tbody>\n",
       "</table>\n",
       "<p>9163 rows × 3 columns</p>\n",
       "</div>"
      ],
      "text/plain": [
       "                           Title  \\\n",
       "0                   Web scraping   \n",
       "1          Wrapper (data mining)   \n",
       "2                    Microformat   \n",
       "3                   Common Logic   \n",
       "4                         ISLISP   \n",
       "...                          ...   \n",
       "9944  Stack (abstract data type)   \n",
       "9946    Creative Commons license   \n",
       "9948         Tiresias (typeface)   \n",
       "9949                   MetaType1   \n",
       "9950           Ubuntu (typeface)   \n",
       "\n",
       "                                            Description  \\\n",
       "0     Web scraping, web harvesting, or web data extr...   \n",
       "1     Wrapper in data mining is a procedure that ext...   \n",
       "2     Microformats (μF)[note 1] are a set of defined...   \n",
       "3     Common Logic (CL) is a framework for a family ...   \n",
       "4     ISLISP (also capitalized as ISLisp) is a progr...   \n",
       "...                                                 ...   \n",
       "9944  In computer science, a stack is an abstract da...   \n",
       "9946  A Creative Commons (CC) license is one of seve...   \n",
       "9948  Tiresias is a family of TrueType sans-serif ty...   \n",
       "9949  MetaType1, also stylized as METATYPE1, is a to...   \n",
       "9950  Ubuntu is an OpenType-based font family, desig...   \n",
       "\n",
       "                                                   Link  \n",
       "0            https://en.wikipedia.org/wiki/Web_scraping  \n",
       "1     https://en.wikipedia.org/wiki/Wrapper_(data_mi...  \n",
       "2             https://en.wikipedia.org/wiki/Microformat  \n",
       "3            https://en.wikipedia.org/wiki/Common_Logic  \n",
       "4                  https://en.wikipedia.org/wiki/ISLISP  \n",
       "...                                                 ...  \n",
       "9944  https://en.wikipedia.org/wiki/Stack_(data_stru...  \n",
       "9946  https://en.wikipedia.org/wiki/Creative_Commons...  \n",
       "9948  https://en.wikipedia.org/wiki/Tiresias_(typeface)  \n",
       "9949            https://en.wikipedia.org/wiki/MetaType1  \n",
       "9950    https://en.wikipedia.org/wiki/Ubuntu_(typeface)  \n",
       "\n",
       "[9163 rows x 3 columns]"
      ]
     },
     "metadata": {},
     "output_type": "display_data"
    },
    {
     "name": "stdout",
     "output_type": "stream",
     "text": [
      "https://en.wikipedia.org/wiki/Ubuntu_Forums\n"
     ]
    }
   ],
   "source": [
    "df = df.drop_duplicates(subset=[\"Title\"])\n",
    "display(df)\n",
    "print(next_link)"
   ]
  },
  {
   "cell_type": "code",
   "execution_count": 136,
   "id": "1f27cf62",
   "metadata": {},
   "outputs": [],
   "source": [
    "df.to_csv('data.csv', index=False)"
   ]
  },
  {
   "cell_type": "code",
   "execution_count": 137,
   "id": "3af00908",
   "metadata": {},
   "outputs": [
    {
     "data": {
      "text/html": [
       "<div>\n",
       "<style scoped>\n",
       "    .dataframe tbody tr th:only-of-type {\n",
       "        vertical-align: middle;\n",
       "    }\n",
       "\n",
       "    .dataframe tbody tr th {\n",
       "        vertical-align: top;\n",
       "    }\n",
       "\n",
       "    .dataframe thead th {\n",
       "        text-align: right;\n",
       "    }\n",
       "</style>\n",
       "<table border=\"1\" class=\"dataframe\">\n",
       "  <thead>\n",
       "    <tr style=\"text-align: right;\">\n",
       "      <th></th>\n",
       "      <th>Title</th>\n",
       "      <th>Description</th>\n",
       "      <th>Link</th>\n",
       "    </tr>\n",
       "  </thead>\n",
       "  <tbody>\n",
       "    <tr>\n",
       "      <th>0</th>\n",
       "      <td>Web scraping</td>\n",
       "      <td>Web scraping, web harvesting, or web data extr...</td>\n",
       "      <td>https://en.wikipedia.org/wiki/Web_scraping</td>\n",
       "    </tr>\n",
       "    <tr>\n",
       "      <th>1</th>\n",
       "      <td>Wrapper (data mining)</td>\n",
       "      <td>Wrapper in data mining is a procedure that ext...</td>\n",
       "      <td>https://en.wikipedia.org/wiki/Wrapper_(data_mi...</td>\n",
       "    </tr>\n",
       "    <tr>\n",
       "      <th>2</th>\n",
       "      <td>Microformat</td>\n",
       "      <td>Microformats (μF)[note 1] are a set of defined...</td>\n",
       "      <td>https://en.wikipedia.org/wiki/Microformat</td>\n",
       "    </tr>\n",
       "    <tr>\n",
       "      <th>3</th>\n",
       "      <td>Common Logic</td>\n",
       "      <td>Common Logic (CL) is a framework for a family ...</td>\n",
       "      <td>https://en.wikipedia.org/wiki/Common_Logic</td>\n",
       "    </tr>\n",
       "    <tr>\n",
       "      <th>4</th>\n",
       "      <td>ISLISP</td>\n",
       "      <td>ISLISP (also capitalized as ISLisp) is a progr...</td>\n",
       "      <td>https://en.wikipedia.org/wiki/ISLISP</td>\n",
       "    </tr>\n",
       "    <tr>\n",
       "      <th>...</th>\n",
       "      <td>...</td>\n",
       "      <td>...</td>\n",
       "      <td>...</td>\n",
       "    </tr>\n",
       "    <tr>\n",
       "      <th>9158</th>\n",
       "      <td>Stack (abstract data type)</td>\n",
       "      <td>In computer science, a stack is an abstract da...</td>\n",
       "      <td>https://en.wikipedia.org/wiki/Stack_(data_stru...</td>\n",
       "    </tr>\n",
       "    <tr>\n",
       "      <th>9159</th>\n",
       "      <td>Creative Commons license</td>\n",
       "      <td>A Creative Commons (CC) license is one of seve...</td>\n",
       "      <td>https://en.wikipedia.org/wiki/Creative_Commons...</td>\n",
       "    </tr>\n",
       "    <tr>\n",
       "      <th>9160</th>\n",
       "      <td>Tiresias (typeface)</td>\n",
       "      <td>Tiresias is a family of TrueType sans-serif ty...</td>\n",
       "      <td>https://en.wikipedia.org/wiki/Tiresias_(typeface)</td>\n",
       "    </tr>\n",
       "    <tr>\n",
       "      <th>9161</th>\n",
       "      <td>MetaType1</td>\n",
       "      <td>MetaType1, also stylized as METATYPE1, is a to...</td>\n",
       "      <td>https://en.wikipedia.org/wiki/MetaType1</td>\n",
       "    </tr>\n",
       "    <tr>\n",
       "      <th>9162</th>\n",
       "      <td>Ubuntu (typeface)</td>\n",
       "      <td>Ubuntu is an OpenType-based font family, desig...</td>\n",
       "      <td>https://en.wikipedia.org/wiki/Ubuntu_(typeface)</td>\n",
       "    </tr>\n",
       "  </tbody>\n",
       "</table>\n",
       "<p>9163 rows × 3 columns</p>\n",
       "</div>"
      ],
      "text/plain": [
       "                           Title  \\\n",
       "0                   Web scraping   \n",
       "1          Wrapper (data mining)   \n",
       "2                    Microformat   \n",
       "3                   Common Logic   \n",
       "4                         ISLISP   \n",
       "...                          ...   \n",
       "9158  Stack (abstract data type)   \n",
       "9159    Creative Commons license   \n",
       "9160         Tiresias (typeface)   \n",
       "9161                   MetaType1   \n",
       "9162           Ubuntu (typeface)   \n",
       "\n",
       "                                            Description  \\\n",
       "0     Web scraping, web harvesting, or web data extr...   \n",
       "1     Wrapper in data mining is a procedure that ext...   \n",
       "2     Microformats (μF)[note 1] are a set of defined...   \n",
       "3     Common Logic (CL) is a framework for a family ...   \n",
       "4     ISLISP (also capitalized as ISLisp) is a progr...   \n",
       "...                                                 ...   \n",
       "9158  In computer science, a stack is an abstract da...   \n",
       "9159  A Creative Commons (CC) license is one of seve...   \n",
       "9160  Tiresias is a family of TrueType sans-serif ty...   \n",
       "9161  MetaType1, also stylized as METATYPE1, is a to...   \n",
       "9162  Ubuntu is an OpenType-based font family, desig...   \n",
       "\n",
       "                                                   Link  \n",
       "0            https://en.wikipedia.org/wiki/Web_scraping  \n",
       "1     https://en.wikipedia.org/wiki/Wrapper_(data_mi...  \n",
       "2             https://en.wikipedia.org/wiki/Microformat  \n",
       "3            https://en.wikipedia.org/wiki/Common_Logic  \n",
       "4                  https://en.wikipedia.org/wiki/ISLISP  \n",
       "...                                                 ...  \n",
       "9158  https://en.wikipedia.org/wiki/Stack_(data_stru...  \n",
       "9159  https://en.wikipedia.org/wiki/Creative_Commons...  \n",
       "9160  https://en.wikipedia.org/wiki/Tiresias_(typeface)  \n",
       "9161            https://en.wikipedia.org/wiki/MetaType1  \n",
       "9162    https://en.wikipedia.org/wiki/Ubuntu_(typeface)  \n",
       "\n",
       "[9163 rows x 3 columns]"
      ]
     },
     "metadata": {},
     "output_type": "display_data"
    }
   ],
   "source": [
    "read_df = pd.read_csv(\"data.csv\", index_col=False)\n",
    "display(read_df)"
   ]
  }
 ],
 "metadata": {
  "kernelspec": {
   "display_name": "Python 3 (ipykernel)",
   "language": "python",
   "name": "python3"
  },
  "language_info": {
   "codemirror_mode": {
    "name": "ipython",
    "version": 3
   },
   "file_extension": ".py",
   "mimetype": "text/x-python",
   "name": "python",
   "nbconvert_exporter": "python",
   "pygments_lexer": "ipython3",
   "version": "3.9.12"
  }
 },
 "nbformat": 4,
 "nbformat_minor": 5
}
